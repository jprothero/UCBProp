{
 "cells": [
  {
   "cell_type": "code",
   "execution_count": 1,
   "metadata": {
    "ExecuteTime": {
     "end_time": "2018-04-09T17:35:28.635104Z",
     "start_time": "2018-04-09T17:35:28.485258Z"
    }
   },
   "outputs": [],
   "source": [
    "import numpy as np"
   ]
  },
  {
   "cell_type": "code",
   "execution_count": 2,
   "metadata": {
    "ExecuteTime": {
     "end_time": "2018-04-09T17:36:05.619050Z",
     "start_time": "2018-04-09T17:36:05.612844Z"
    }
   },
   "outputs": [],
   "source": [
    "search_probas = np.array([[.5, .3, .2]])\n",
    "\n",
    "predicted_probas = np.array([.4, .5, .1])"
   ]
  },
  {
   "cell_type": "code",
   "execution_count": 8,
   "metadata": {
    "ExecuteTime": {
     "end_time": "2018-04-09T17:38:00.198995Z",
     "start_time": "2018-04-09T17:38:00.190981Z"
    }
   },
   "outputs": [
    {
     "data": {
      "text/plain": [
       "array([1.12660654])"
      ]
     },
     "execution_count": 8,
     "metadata": {},
     "output_type": "execute_result"
    }
   ],
   "source": [
    "res1 = -(search_probas @ np.expand_dims(np.log(predicted_probas), -1))\n",
    "res1\n",
    "\n",
    "# so same thing. if search probas are confident there loss will be higher, if they are lower the loss will\n",
    "#be lower\n",
    "\n",
    "#the less confident the predicted probas are the higher the loss will be\n",
    "\n",
    "#so the clear issue here is that we are not dealing with probability distributions\n",
    "#we are dealing with raw numbers\n",
    "#we could maybe do an element wise mse/num_elements\n",
    "#that will encourage it to match\n",
    "\n",
    "#I think using any probability stuff doesnt make much sense since those are related to trying to increase the\n",
    "#probability of predicting something\n",
    "#that doesnt work for this since it isn't trying to match that"
   ]
  },
  {
   "cell_type": "code",
   "execution_count": null,
   "metadata": {},
   "outputs": [],
   "source": []
  }
 ],
 "metadata": {
  "kernelspec": {
   "display_name": "Python 3",
   "language": "python",
   "name": "python3"
  },
  "language_info": {
   "codemirror_mode": {
    "name": "ipython",
    "version": 3
   },
   "file_extension": ".py",
   "mimetype": "text/x-python",
   "name": "python",
   "nbconvert_exporter": "python",
   "pygments_lexer": "ipython3",
   "version": "3.6.3"
  },
  "toc": {
   "nav_menu": {},
   "number_sections": true,
   "sideBar": true,
   "skip_h1_title": false,
   "toc_cell": false,
   "toc_position": {},
   "toc_section_display": "block",
   "toc_window_display": false
  }
 },
 "nbformat": 4,
 "nbformat_minor": 2
}
